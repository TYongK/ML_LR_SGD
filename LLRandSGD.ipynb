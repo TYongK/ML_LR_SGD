{
 "cells": [
  {
   "cell_type": "code",
   "execution_count": 1,
   "id": "7fa5e3c6",
   "metadata": {},
   "outputs": [],
   "source": [
    "import numpy as np\n",
    "import csv\n",
    "import matplotlib.pyplot as plt"
   ]
  },
  {
   "cell_type": "code",
   "execution_count": 2,
   "id": "68697775",
   "metadata": {},
   "outputs": [],
   "source": [
    "def llr_obj(X, y, th, th0, lam):\n",
    "    \n",
    "    # y(label) data filtering\n",
    "    #y.where(y != 1, y, 0)\n",
    "    \n",
    "    d_number, n_number = X.shape\n",
    "    \n",
    "    llr_obj_result = np.sum((np.dot(th.T, X) + th0-y)**2)\n",
    "    \n",
    "    return llr_obj_result/n_number + lam*(np.linalg.norm(th)**2)\n",
    "\n",
    "# returns a (d,1) array for the gradient of llr_obj(X, y, th, th0) with respect to th\n",
    "# Passed\n",
    "def d_llr_obj_th(X, y, th, th0, lam):\n",
    "    #y.where(y != 1, y, 0)\n",
    "    d_number, n_number = X.shape  \n",
    "    result =  2 * np.add(np.sum((np.dot(th.T, X) + th0-y) * X, axis = 1)[np.newaxis].T / n_number, 2*lam*th) \n",
    "    return result\n",
    "\n",
    "# returns a (d+1, 1) array for the full gradient as a single vector (which includes both th, th0)\n",
    "# Passed\n",
    "def llr_obj_grad(X, y, th, th0, lam):\n",
    "    d_number, n_number = X.shape\n",
    "    d_llr_obj_th_result = d_llr_obj_th(X, y, th, th0, lam)  \n",
    "    result =  2* np.sum(np.dot(th.T, X) + th0 - y) / n_number\n",
    "    return np.append(d_llr_obj_th_result, result[np.newaxis][np.newaxis], axis=0)"
   ]
  },
  {
   "cell_type": "code",
   "execution_count": 3,
   "id": "77319cf5",
   "metadata": {},
   "outputs": [],
   "source": [
    "def llr_SGD(data, labels, lam, save, columnOne, columnTwo):\n",
    "    def llr_min_step_size_fn(i):\n",
    "       return 2/(i+1)**0.5\n",
    "    d_number, n_number = data.shape  \n",
    "    th = np.zeros((d_number,1))\n",
    "    th0 = np.array([0])\n",
    "    t = 0\n",
    "    while t < 1000000:\n",
    "        t = t+1\n",
    "        oldth = th\n",
    "        oldth0 = th0\n",
    "        random_i = np.random.randint(np.size(data,1))\n",
    "        oldth_grad = llr_obj_grad(data[:, random_i:random_i+1], labels[:, random_i:random_i+1], th, th0, lam)[0:d_number,:]\n",
    "        oldth0_grad =  llr_obj_grad(data[:, random_i:random_i+1], labels[:, random_i:random_i+1], th, th0, lam)[-1,0]\n",
    "        th = th - llr_min_step_size_fn(t) * oldth_grad\n",
    "        th0 = th0 - llr_min_step_size_fn(t) * oldth0_grad\n",
    "        if (save == True):\n",
    "            SaveGraphAnimationImages (th, th0, data, labels, t, 7, 12)\n",
    "        if np.abs(llr_obj(data, labels, th, th0, lam) - llr_obj(data, labels, oldth, oldth0, lam)) < 0.00001:\n",
    "            print(\"Accurate Enough\")\n",
    "            ShowGraph (th, th0, dataset_features, dataset_labels, d_titles, columnOne, columnTwo)\n",
    "            break\n",
    "    ShowGraph (th, th0, dataset_features, dataset_labels, d_titles, columnOne, columnTwo)\n",
    "    return [th, th0]\n"
   ]
  },
  {
   "cell_type": "code",
   "execution_count": 4,
   "id": "10c1e9e4",
   "metadata": {},
   "outputs": [],
   "source": [
    "def DataOrganize(Dataset, XOne_Coluumn_Int, XTwo_Coluumn_Int):\n",
    "    dataset_features = Dataset[:,0:-1]\n",
    "    dataset_labels = Dataset[:,-1:]\n",
    "    \n",
    "    xOne_Data = dataset_features[:, XOne_Coluumn_Int:XOne_Coluumn_Int+1]\n",
    "    dataset_labels = dataset_features[:, XTwo_Coluumn_Int:XTwo_Coluumn_Int+1]    \n",
    "    \n",
    "    return xOne_Data.T, dataset_labels.T\n",
    "\n",
    "\n",
    "def SaveGraphAnimationImages (Result_th, Result_thZero, X, y, iteration, colone, coltwo):\n",
    "    xOne_Data = X\n",
    "    xTwo_Data = y\n",
    "    \n",
    "    xOne = np.linspace(-1000,3500)\n",
    "    xTwo = xOne*Result_th[0,0]+ Result_thZero[0]\n",
    "    \n",
    "    plt.clf()\n",
    "    \n",
    "    f = plt.figure()\n",
    "    xOneLength = np.amax(xOne_Data) - np.amin(xOne_Data)+4\n",
    "    xTwoLength = np.amax(xTwo_Data) - np.amin(xTwo_Data)+4   \n",
    "    xOneLRatio = xOneLength/(xOneLength + xTwoLength)\n",
    "    xTwoLRatio = xTwoLength/(xOneLength + xTwoLength)\n",
    "    plotSizeMult = 18\n",
    "    ##f.set_figwidth(xOneLRatio * plotSizeMult)\n",
    "    ##f.set_figheight(xTwoLRatio * plotSizeMult)\n",
    "    #Size of Plot_End\n",
    "\n",
    "    plt.axis([np.amin(xOne_Data)-2, np.amax(xOne_Data)+2, np.amin(xTwo_Data)-2, np.amax(xTwo_Data)+2])\n",
    "    plt.xlabel(d_titles[colone])\n",
    "    plt.ylabel(d_titles[coltwo])\n",
    "    plt.plot(xOne_Data, xTwo_Data, 'bo', markersize=2.5)\n",
    "    plt.plot(xOne, xTwo, 'r')\n",
    "    plt.axis([np.min(xOne_Data)-2, np.max(xOne_Data)+2, np.min(xTwo_Data)-2, np.max(xTwo_Data)+2])\n",
    "    plt.savefig(\"E:\\_Github\\ML_LLCandSGD\\images\\lcResult\"+ str(iteration) +'.png')\n",
    "    \n",
    "    \n",
    "def ShowGraph (Result_th, Result_thZero, X, y, d_titles, colone, coltwo):\n",
    "    \n",
    "    xOne_Data = X\n",
    "    xTwo_Data = y\n",
    "    \n",
    "    xOne = np.linspace(-1000,3500)\n",
    "    xTwo = xOne*Result_th[0,0]+ Result_thZero[0]\n",
    "    \n",
    "    plt.clf()\n",
    "    \n",
    "    f = plt.figure()\n",
    "    xOneLength = np.amax(xOne_Data) - np.amin(xOne_Data)+4\n",
    "    xTwoLength = np.amax(xTwo_Data) - np.amin(xTwo_Data)+4   \n",
    "    xOneLRatio = xOneLength/(xOneLength + xTwoLength)\n",
    "    xTwoLRatio = xTwoLength/(xOneLength + xTwoLength)\n",
    "    plotSizeMult = 18\n",
    "    ##f.set_figwidth(xOneLRatio * plotSizeMult)\n",
    "    ##f.set_figheight(xTwoLRatio * plotSizeMult)\n",
    "    #Size of Plot_End\n",
    "\n",
    "    plt.axis([np.amin(xOne_Data)-2, np.amax(xOne_Data)+2, np.amin(xTwo_Data)-2, np.amax(xTwo_Data)+2])\n",
    "    plt.xlabel(d_titles[colone])\n",
    "    plt.ylabel(d_titles[coltwo])\n",
    "    plt.plot(xOne_Data, xTwo_Data, 'bo', markersize=2.5)\n",
    "    plt.plot(xOne, xTwo, 'r')\n",
    "    plt.axis([np.min(xOne_Data)-2, np.max(xOne_Data)+2, np.min(xTwo_Data)-2, np.max(xTwo_Data)+2])\n",
    "\n"
   ]
  },
  {
   "cell_type": "code",
   "execution_count": 5,
   "id": "7bec6331",
   "metadata": {},
   "outputs": [
    {
     "name": "stderr",
     "output_type": "stream",
     "text": [
      "C:\\Users\\Taeyong\\anaconda3\\envs\\lcperceptron\\lib\\site-packages\\numpy\\core\\fromnumeric.py:86: RuntimeWarning: overflow encountered in reduce\n",
      "  return ufunc.reduce(obj, axis, dtype, out, **passkwargs)\n",
      "C:\\Users\\Public\\Documents\\ESTsoft\\CreatorTemp\\ipykernel_18076\\1978940076.py:8: RuntimeWarning: overflow encountered in square\n",
      "  llr_obj_result = np.sum((np.dot(th.T, X) + th0-y)**2)\n",
      "C:\\Users\\Public\\Documents\\ESTsoft\\CreatorTemp\\ipykernel_18076\\2827884760.py:19: RuntimeWarning: invalid value encountered in double_scalars\n",
      "  if np.abs(llr_obj(data, labels, th, th0, lam) - llr_obj(data, labels, oldth, oldth0, lam)) < 0.00001:\n"
     ]
    },
    {
     "name": "stdout",
     "output_type": "stream",
     "text": [
      "Accurate Enough\n",
      "[array([[0.982422]]), array([19.00444268])]\n"
     ]
    },
    {
     "data": {
      "text/plain": [
       "<Figure size 432x288 with 0 Axes>"
      ]
     },
     "metadata": {},
     "output_type": "display_data"
    },
    {
     "data": {
      "text/plain": [
       "<Figure size 432x288 with 0 Axes>"
      ]
     },
     "metadata": {},
     "output_type": "display_data"
    },
    {
     "data": {
      "image/png": "[encoded data removed]",
      "text/plain": [
       "<Figure size 432x288 with 1 Axes>"
      ]
     },
     "metadata": {
      "needs_background": "light"
     },
     "output_type": "display_data"
    }
   ],
   "source": [
    "with open('E:\\\\_Github\\\\ML_LLCandSGD\\\\RealEstateDataSetBoston.csv', newline = '', encoding=\"utf-8-sig\") as file:\n",
    "    reader = csv.reader(file,\n",
    "                        quoting = csv.QUOTE_ALL,\n",
    "                        delimiter = ' ')\n",
    "     \n",
    "    # storing all the rows in an output list\n",
    "    output = []\n",
    "    for row in reader:\n",
    "        output.append(row[:][0].split(\",\"))\n",
    "\n",
    "d_titles = np.asarray(output[0])\n",
    "dataset = np.asarray(output[1:]).astype(float)\n",
    "\n",
    "#Choose two Columns of csv\n",
    "columnOne = 7\n",
    "columnTwo = 13\n",
    "\n",
    "dataset_features, dataset_labels = DataOrganize(dataset, columnOne, columnTwo)\n",
    "\n",
    "Result_th_th0 = llr_SGD(dataset_features, dataset_labels, 0.0001, False, columnOne, columnTwo)\n",
    "\n",
    "print(Result_th_th0)"
   ]
  }
 ],
 "metadata": {
  "kernelspec": {
   "display_name": "lcperceptron",
   "language": "python",
   "name": "lcperceptron"
  },
  "language_info": {
   "codemirror_mode": {
    "name": "ipython",
    "version": 3
   },
   "file_extension": ".py",
   "mimetype": "text/x-python",
   "name": "python",
   "nbconvert_exporter": "python",
   "pygments_lexer": "ipython3",
   "version": "3.10.2"
  }
 },
 "nbformat": 4,
 "nbformat_minor": 5
}
